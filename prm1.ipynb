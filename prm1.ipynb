{
 "cells": [
  {
   "cell_type": "code",
   "execution_count": 1,
   "id": "f0976e63",
   "metadata": {},
   "outputs": [
    {
     "name": "stdout",
     "output_type": "stream",
     "text": [
      "Enter the name : Navya\n",
      "Hello Navya\n"
     ]
    }
   ],
   "source": [
    "#(1a)Read your name and print Hello message with name.\n",
    "name=input(\"Enter the name : \")\n",
    "print(\"Hello\",name)"
   ]
  },
  {
   "cell_type": "code",
   "execution_count": 2,
   "id": "ddd005a1",
   "metadata": {},
   "outputs": [
    {
     "name": "stdout",
     "output_type": "stream",
     "text": [
      "Enter the First Number:10\n",
      "Enter the Second Number:20\n",
      "Addition of two number is = 30\n",
      "Difference of two number is = -10\n",
      "Multiplication of two number is = 200\n",
      "Division of two number is = 0.5\n"
     ]
    }
   ],
   "source": [
    "#(1b) Read two numbers and print their sum, difference, product and division\n",
    "a=int(input(\"Enter the First Number:\"))\n",
    "b=int(input(\"Enter the Second Number:\"))\n",
    "print(\"Addition of two number is =\",a+b)\n",
    "print(\"Difference of two number is =\",a-b)\n",
    "print(\"Multiplication of two number is =\",a*b)\n",
    "print(\"Division of two number is =\",a/b)\n"
   ]
  },
  {
   "cell_type": "code",
   "execution_count": 8,
   "id": "1e11a1ff",
   "metadata": {},
   "outputs": [
    {
     "name": "stdout",
     "output_type": "stream",
     "text": [
      "Enter a sentence:vc is super\n",
      "Total number of words in the sentence : 3\n",
      "Total number of character in the sentence : 11\n",
      "Total number of words in the sentence without space: 9\n"
     ]
    }
   ],
   "source": [
    "x=input(\"Enter a sentence:\")\n",
    "y=x.split()\n",
    "print(\"Total number of words in the sentence :\",len(y))\n",
    "print(\"Total number of character in the sentence :\",len(x))\n",
    "if (len(x)==0):\n",
    "    print(\"Total number of words in the sentence without space:\",len(x)-len(y))\n",
    "else:    \n",
    "    print(\"Total number of words in the sentence without space:\",len(x)-len(y)+1)"
   ]
  },
  {
   "cell_type": "code",
   "execution_count": 26,
   "id": "c44df983",
   "metadata": {},
   "outputs": [
    {
     "name": "stdout",
     "output_type": "stream",
     "text": [
      "Enter a sentence:vc i l y\n",
      "Total number of words in the sentence : 4\n",
      "Total number of character in the sentence : 8\n",
      "Total number of characters in the sentence without space: 5\n"
     ]
    }
   ],
   "source": [
    "# (1c)Word and character count of a given string\n",
    "x=input(\"Enter a sentence:\")\n",
    "y=x.split()\n",
    "print(\"Total number of words in the sentence :\",len(y))\n",
    "print(\"Total number of character in the sentence :\",len(x))\n",
    "if (len(x)==0):\n",
    "    print(\"Total number of words in the sentence without space:\",len(x)-len(y))\n",
    "else:    \n",
    "    print(\"Total number of characters in the sentence without space:\",len(x)-len(y)+1)"
   ]
  },
  {
   "cell_type": "code",
   "execution_count": 1,
   "id": "5b2dcc35",
   "metadata": {},
   "outputs": [
    {
     "name": "stdout",
     "output_type": "stream",
     "text": [
      "***************************************\n",
      "select the shape to calculate the area\n",
      "1.rectangle 2.Traingle3.Circle 4.exit \n",
      "1\n",
      "enter the width of rectangle \n",
      "10\n",
      "enter the height of rectangle \n",
      "20\n",
      "area of rectangle is  200 square meters\n",
      "***************************************\n",
      "select the shape to calculate the area\n",
      "1.rectangle 2.Traingle3.Circle 4.exit \n",
      "2\n",
      "Enter the base value of the triangle\n",
      "20\n",
      "Enter the height value of the triangle\n",
      "10\n",
      "area of given triangle is 100.0\n",
      "***************************************\n",
      "select the shape to calculate the area\n",
      "1.rectangle 2.Traingle3.Circle 4.exit \n",
      "3\n",
      "Enter radius value of the circle\n",
      "0\n",
      "area of given triangle is 0.0\n",
      "***************************************\n",
      "select the shape to calculate the area\n",
      "1.rectangle 2.Traingle3.Circle 4.exit \n",
      "20\n",
      "please enter the valid input menu\n",
      "***************************************\n",
      "select the shape to calculate the area\n",
      "1.rectangle 2.Traingle3.Circle 4.exit \n",
      "4\n"
     ]
    }
   ],
   "source": [
    "# (1d)Area of a given shape (rectangle, triangle and circle) reading shape and appropriate values from standard input.\n",
    "\n",
    "while True:\n",
    "\n",
    "    print(\"***************************************\")\n",
    "    print(\"select the shape to calculate the area\")\n",
    "    print(\"\"\"1.rectangle 2.Traingle3.Circle 4.exit \"\"\")\n",
    "    choice=input()\n",
    "    if(choice=='1'):\n",
    "        print(\"enter the width of rectangle \")\n",
    "        width=int(input())\n",
    "        print(\"enter the height of rectangle \")\n",
    "        height=int(input())\n",
    "        print(\"area of rectangle is \",width*height,\"square meters\")\n",
    "        continue\n",
    "    elif(choice=='2'):\n",
    "        print(\"Enter the base value of the triangle\")\n",
    "        base=int(input())\n",
    "        print(\"Enter the height value of the triangle\")\n",
    "        height=int(input())\n",
    "        print(\"area of given triangle is\",0.5*base*height)\n",
    "        continue\n",
    "    elif(choice=='3'):\n",
    "        print(\"Enter radius value of the circle\")\n",
    "        radius=int(input())\n",
    "        print(\"area of given triangle is\",3.14*radius*radius)\n",
    "        continue\n",
    "    elif(choice=='4'):\n",
    "        break\n",
    "    else:\n",
    "        print(\"please enter the valid input menu\")\n",
    "    continue\n",
    "    "
   ]
  },
  {
   "cell_type": "code",
   "execution_count": 1,
   "id": "63973106",
   "metadata": {},
   "outputs": [
    {
     "name": "stdout",
     "output_type": "stream",
     "text": [
      "***************************************\n",
      "Select the loops to print the name\n",
      "1.for loop 2. while loop 3.Exit \n",
      "1\n",
      "Enter the name:Navya\n",
      "Enter the n value:3\n",
      "Navya\n",
      "Navya\n",
      "Navya\n",
      "***************************************\n",
      "Select the loops to print the name\n",
      "1.for loop 2. while loop 3.Exit \n",
      "2\n",
      "Enter the name:Navya\n",
      "Enter the n value:3\n",
      "Navya\n",
      "Navya\n",
      "Navya\n",
      "***************************************\n",
      "Select the loops to print the name\n",
      "1.for loop 2. while loop 3.Exit \n",
      "3\n"
     ]
    }
   ],
   "source": [
    "# (1e) Print a name ‘n’ times, where name and n are read from standard input, using for and while loops. \n",
    "\n",
    "while True:\n",
    "    print(\"***************************************\")   \n",
    "    print(\"Select the loops to print the name\")\n",
    "    print(\"\"\"1.for loop 2. while loop 3.Exit \"\"\")\n",
    "    choice=input()\n",
    "    if choice=='1':\n",
    "        name=input(\"Enter the name:\")\n",
    "        n=int(input(\"Enter the n value:\"))\n",
    "        for i in range(n):\n",
    "            print(name)\n",
    "    elif choice=='2':\n",
    "        name=input(\"Enter the name:\")\n",
    "        n=int(input(\"Enter the n value:\"))\n",
    "        i=1\n",
    "        while i<=n:\n",
    "            print(name)\n",
    "            i+=1\n",
    "    elif(choice=='3'):\n",
    "        break   "
   ]
  },
  {
   "cell_type": "code",
   "execution_count": 1,
   "id": "cf856d04",
   "metadata": {},
   "outputs": [
    {
     "name": "stdout",
     "output_type": "stream",
     "text": [
      "Enter first value:20\n",
      "Enter second value:0\n",
      "Can't Divide by Zero\n"
     ]
    }
   ],
   "source": [
    "#(1f)Handle Divided by Zero Exception. \n",
    "\n",
    "try:\n",
    "    num1=int(input(\"Enter first value:\"))\n",
    "    num2=int(input(\"Enter second value:\"))\n",
    "    result=num1//num2\n",
    "    print(\"Result:\",result)\n",
    "\n",
    "\n",
    "except ZeroDivisionError:\n",
    "    print(\"Can't Divide by Zero\")\n",
    "except ValueError:\n",
    "    print(\"Enter Integer Value\")"
   ]
  },
  {
   "cell_type": "code",
   "execution_count": 1,
   "id": "c06cca3b",
   "metadata": {},
   "outputs": [
    {
     "name": "stdout",
     "output_type": "stream",
     "text": [
      "22 16 51\n",
      "22 17 1\n",
      "22 17 11\n",
      "22 17 21\n",
      "22 17 31\n",
      "22 17 41\n",
      "22 17 51\n",
      "22 18 1\n",
      "22 18 11\n",
      "22 18 21\n"
     ]
    }
   ],
   "source": [
    "#(1g)Print current time for 10 times with an interval of 10 seconds.\n",
    "\n",
    "import time\n",
    "for i in range(10):\n",
    " d=time.localtime()\n",
    " time.sleep(10)\n",
    " print(d.tm_hour,d.tm_min,d.tm_sec)\n"
   ]
  }
 ],
 "metadata": {
  "kernelspec": {
   "display_name": "Python 3 (ipykernel)",
   "language": "python",
   "name": "python3"
  },
  "language_info": {
   "codemirror_mode": {
    "name": "ipython",
    "version": 3
   },
   "file_extension": ".py",
   "mimetype": "text/x-python",
   "name": "python",
   "nbconvert_exporter": "python",
   "pygments_lexer": "ipython3",
   "version": "3.9.13"
  }
 },
 "nbformat": 4,
 "nbformat_minor": 5
}
